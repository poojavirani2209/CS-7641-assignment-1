{
  "nbformat": 4,
  "nbformat_minor": 0,
  "metadata": {
    "colab": {
      "provenance": []
    },
    "kernelspec": {
      "name": "python3",
      "display_name": "Python 3"
    },
    "language_info": {
      "name": "python"
    }
  },
  "cells": [
    {
      "cell_type": "markdown",
      "source": [
        "\n",
        "\n",
        "Import required libraries\n"
      ],
      "metadata": {
        "id": "o3h7ofo4Kc1C"
      }
    },
    {
      "cell_type": "code",
      "execution_count": 4,
      "metadata": {
        "id": "GWQqS9MqatUS"
      },
      "outputs": [],
      "source": [
        "import os\n",
        "from sklearn.tree import DecisionTreeClassifier, export_graphviz\n",
        "import pandas as pd\n",
        "import numpy as np\n",
        "from sklearn.model_selection import train_test_split, cross_val_score\n",
        "from time import time\n",
        "from sklearn import preprocessing\n",
        "from sklearn.pipeline import Pipeline\n",
        "from sklearn.metrics import roc_auc_score , classification_report\n",
        "from sklearn.metrics import precision_score, recall_score, accuracy_score, classification_report"
      ]
    },
    {
      "cell_type": "markdown",
      "source": [
        "Read dataset of car evaluation"
      ],
      "metadata": {
        "id": "Pz2DZU8tKeAO"
      }
    },
    {
      "cell_type": "code",
      "source": [
        "dataset = pd.read_csv(\"car_evaluation.csv\",\n",
        "              names=[\"Buying\", \"Maintenance\" , \"Doors\" , \"Persons\" , \"Lug-Boot\" , \"Safety\", \"Class\"])\n",
        "dataset.head()"
      ],
      "metadata": {
        "id": "Lby1-ZY9bYQd"
      },
      "execution_count": 5,
      "outputs": []
    },
    {
      "cell_type": "markdown",
      "source": [
        "Encode categorical values of target variable to numerical"
      ],
      "metadata": {
        "id": "v4r8quERKplB"
      }
    },
    {
      "cell_type": "code",
      "source": [
        "from sklearn.preprocessing import LabelEncoder\n",
        "\n",
        "labelEncoder = LabelEncoder()\n",
        "dataset['Class'] = labelEncoder.fit_transform(dataset.Class)\n",
        "dataset['Class'].unique()"
      ],
      "metadata": {
        "colab": {
          "base_uri": "https://localhost:8080/"
        },
        "id": "Ut4Zht12bwKq",
        "outputId": "95b30a21-5c86-413e-b4ed-c40d7d0fc659"
      },
      "execution_count": 9,
      "outputs": [
        {
          "output_type": "execute_result",
          "data": {
            "text/plain": [
              "array([2, 0, 3, 1])"
            ]
          },
          "metadata": {},
          "execution_count": 9
        }
      ]
    },
    {
      "cell_type": "markdown",
      "source": [
        "get features and target variables"
      ],
      "metadata": {
        "id": "Gl0JD5yMKyNi"
      }
    },
    {
      "cell_type": "code",
      "source": [
        "X = dataset.iloc[:,:-1].values\n",
        "y = dataset.iloc[:,-1].values\n",
        "print(\"Shape of x: \", X.shape)\n",
        "print(\"Shape of y: \", y.shape)"
      ],
      "metadata": {
        "colab": {
          "base_uri": "https://localhost:8080/"
        },
        "id": "T6gKgqomcCrH",
        "outputId": "8efd2223-a187-4cfa-d134-6b7811eff5cb"
      },
      "execution_count": 21,
      "outputs": [
        {
          "output_type": "stream",
          "name": "stdout",
          "text": [
            "Shape of x:  (1728, 6)\n",
            "Shape of y:  (1728,)\n"
          ]
        }
      ]
    },
    {
      "cell_type": "markdown",
      "source": [
        "split into train and test data"
      ],
      "metadata": {
        "id": "6nn7i2hfK5iJ"
      }
    },
    {
      "cell_type": "code",
      "source": [
        "X_train, X_test, y_train, y_test = train_test_split(X, y, test_size=0.2, random_state=0)\n",
        "print(\"Shape of x_train: \", X_train.shape)\n",
        "print(\"Shape of y_train: \", y_train.shape)\n",
        "print(\"shape of x_test: \", X_test.shape)\n",
        "print(\"shape of y_test: \", y_test.shape)\n"
      ],
      "metadata": {
        "colab": {
          "base_uri": "https://localhost:8080/"
        },
        "id": "V0fXJ5FPcDom",
        "outputId": "0c5fa87b-d70b-4ee2-8cf2-e6427ddb504f"
      },
      "execution_count": 22,
      "outputs": [
        {
          "output_type": "stream",
          "name": "stdout",
          "text": [
            "Shape of x_train:  (1209, 6)\n",
            "Shape of y_train:  (1209,)\n",
            "shape of x_test:  (519, 6)\n",
            "shape of y_test:  (519,)\n"
          ]
        }
      ]
    },
    {
      "cell_type": "markdown",
      "source": [
        "Perform feature scaling with standardisation"
      ],
      "metadata": {
        "id": "IrCqSw9BK_ZA"
      }
    },
    {
      "cell_type": "code",
      "source": [
        "from sklearn.preprocessing import StandardScaler\n",
        "\n",
        "sc = StandardScaler()\n",
        "sc.fit(X_train)\n",
        "X_train_std = sc.transform(X_train)\n",
        "X_test_std = sc.transform(X_test)"
      ],
      "metadata": {
        "id": "V0Er8X9ycJ1s"
      },
      "execution_count": 16,
      "outputs": []
    },
    {
      "cell_type": "markdown",
      "source": [
        "Descision tree classifier with default depth"
      ],
      "metadata": {
        "id": "DY5ZRaaMLGGX"
      }
    },
    {
      "cell_type": "code",
      "source": [
        "t0=time()\n",
        "from sklearn.tree import DecisionTreeClassifier\n",
        "from sklearn.metrics import confusion_matrix\n",
        "\n",
        "# creating a model\n",
        "model = DecisionTreeClassifier(max_depth=3)\n",
        "# feeding the training data into the model\n",
        "model.fit(X_train, y_train)\n",
        "\n",
        "# finding the training and testing accuracy\n",
        "y_train_pred = model.predict(X_train)\n",
        "y_test_pred = model.predict(X_test)\n",
        "\n",
        "# printing the confusion Matrix\n",
        "cm = confusion_matrix(y_train_pred, y_train)\n",
        "print(cm)\n",
        "\n",
        "print(f'Train score {accuracy_score(y_train_pred,y_train)}')\n",
        "print(f'Test score {accuracy_score(y_test_pred,y_test)}')\n",
        "\n",
        "micro_precision = precision_score(y_test_pred, y_test, average='micro')\n",
        "print('Micro-averaged precision score: {0:0.2f}'.format(\n",
        "      micro_precision))\n",
        "\n",
        "t1=time()\n",
        "print (\"time elapsed: \", t1-t0)"
      ],
      "metadata": {
        "colab": {
          "base_uri": "https://localhost:8080/"
        },
        "id": "ibXrL6M0ddgP",
        "outputId": "349c704d-b332-44c7-e7ca-36f85054fb6a"
      },
      "execution_count": 49,
      "outputs": [
        {
          "output_type": "stream",
          "name": "stdout",
          "text": [
            "[[269  44 173  49]\n",
            " [  0   0   0   0]\n",
            " [  0   0 674   0]\n",
            " [  0   0   0   0]]\n",
            "Train score 0.7799834574028123\n",
            "Test score 0.7726396917148363\n",
            "Micro-averaged precision score: 0.77\n",
            "time elapsed:  0.03508806228637695\n"
          ]
        }
      ]
    },
    {
      "cell_type": "markdown",
      "source": [
        " plotting the graph for performance of decision trees with different max_depth values"
      ],
      "metadata": {
        "id": "oWxUlJJbLoaA"
      }
    },
    {
      "cell_type": "code",
      "source": [
        "from sklearn.model_selection import GridSearchCV\n",
        "max_depth = np.array([2, 3, 4, 5, 6, 7, 8, 9, 10])\n",
        "\n",
        "params = {'max_depth': max_depth}\n",
        "model = DecisionTreeClassifier()\n",
        "# Use cross-validation to tune the hyperparameters\n",
        "search = GridSearchCV(model, params, cv=5, scoring='accuracy')\n",
        "search.fit(X, y)\n",
        "\n",
        "# Print the best hyperparameters and score\n",
        "print(\"Best hyperparameters:\", search.best_params_)\n",
        "print(\"Best score:\", search.best_score_)"
      ],
      "metadata": {
        "colab": {
          "base_uri": "https://localhost:8080/"
        },
        "id": "3wYlD-owMC38",
        "outputId": "09ce9e4f-e7eb-4f33-9fb2-3fcb6fee5cd7"
      },
      "execution_count": 40,
      "outputs": [
        {
          "output_type": "stream",
          "name": "stdout",
          "text": [
            "Best hyperparameters: {'max_depth': 10}\n",
            "Best score: 0.7900125659713496\n"
          ]
        }
      ]
    },
    {
      "cell_type": "code",
      "source": [
        "\n",
        "model = search.best_estimator_\n",
        "model.fit(X_train,y_train)\n",
        "y_train_pred = model.predict(X_train)\n",
        "y_test_pred = model.predict(X_test)\n",
        "\n",
        "print(f'Train score {accuracy_score(y_train_pred,y_train)}')\n",
        "print(f'Test score {accuracy_score(y_test_pred,y_test)}')\n",
        "\n",
        "micro_precision = precision_score(y_test_pred, y_test, average='micro')\n",
        "print('Micro-averaged precision score: {0:0.2f}'.format(\n",
        "      micro_precision))"
      ],
      "metadata": {
        "colab": {
          "base_uri": "https://localhost:8080/"
        },
        "id": "0GsN3KCwTSKt",
        "outputId": "56caca52-f21d-4eee-cd03-32851c3cb909"
      },
      "execution_count": 52,
      "outputs": [
        {
          "output_type": "stream",
          "name": "stdout",
          "text": [
            "Train score 0.9875930521091811\n",
            "Test score 0.9633911368015414\n",
            "Micro-averaged precision score: 0.96\n"
          ]
        }
      ]
    },
    {
      "cell_type": "code",
      "source": [
        "tt0=time()\n",
        "print (\"cross result========\")\n",
        "scores = cross_val_score(decision_tree, X, y, cv=3)\n",
        "print (scores)\n",
        "print (scores.mean())\n",
        "tt1=time()\n",
        "print (\"time elapsed: \", tt1-tt0)"
      ],
      "metadata": {
        "colab": {
          "base_uri": "https://localhost:8080/"
        },
        "id": "NpCOW01lchXU",
        "outputId": "ab7d73e8-b3b0-4669-cd5a-cacd70101b75"
      },
      "execution_count": 28,
      "outputs": [
        {
          "output_type": "stream",
          "name": "stdout",
          "text": [
            "cross result========\n",
            "[0.74305556 0.796875   0.81944444]\n",
            "0.7864583333333334\n",
            "time elapsed:  0.03503680229187012\n"
          ]
        }
      ]
    },
    {
      "cell_type": "code",
      "source": [
        "Training_Accuracy = np.array([93.4, 93.5, 97.3, 97.3, 94.6, 97.3, 97.3, 98.4, 98.07])\n",
        "Testing_Accuracy = np.array([92.02, 92.02, 95.9, 95.9, 97.8, 98.4, 99.3, 99.7, 100.0])\n",
        "\n",
        "plt.rcParams['figure.figsize'] = (10, 7)\n",
        "plt.plot(max_depth, Training_Accuracy, 'r--')\n",
        "plt.plot(max_depth, Testing_Accuracy, 'b-*')\n",
        "plt.title('Performance of Decision Tree with Different Values of max depth', fontsize = 20)\n",
        "plt.xlim([1, 11])\n",
        "plt.ylim([90, 100])\n",
        "plt.xlabel('Max Depth ', fontsize = 15)\n",
        "plt.ylabel('Accuracy', fontsize = 15)\n",
        "plt.legend()\n",
        "plt.show()\n",
        ""
      ],
      "metadata": {
        "colab": {
          "base_uri": "https://localhost:8080/",
          "height": 692
        },
        "id": "5vt9mzgCG5Cp",
        "outputId": "7f9db855-1a3c-434b-986f-8c81c171160a"
      },
      "execution_count": 27,
      "outputs": [
        {
          "output_type": "stream",
          "name": "stderr",
          "text": [
            "WARNING:matplotlib.legend:No artists with labels found to put in legend.  Note that artists whose label start with an underscore are ignored when legend() is called with no argument.\n"
          ]
        },
        {
          "output_type": "display_data",
          "data": {
            "text/plain": [
              "<Figure size 1000x700 with 1 Axes>"
            ],
            "image/png": "[encoded data removed]"
          },
          "metadata": {}
        }
      ]
    }
  ]
}